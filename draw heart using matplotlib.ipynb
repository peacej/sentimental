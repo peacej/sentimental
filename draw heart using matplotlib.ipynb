{
 "cells": [
  {
   "cell_type": "code",
   "execution_count": 11,
   "metadata": {},
   "outputs": [],
   "source": [
    "from matplotlib.font_manager import FontProperties\n",
    "fp = FontProperties(fname=r'C:\\WINDOWS\\Fonts\\TH-Tshyn-P0.ttf', size=35) # TH-Tshyn-P0.ttf works with CJK characters."
   ]
  },
  {
   "cell_type": "code",
   "execution_count": 177,
   "metadata": {},
   "outputs": [],
   "source": [
    "import scipy\n",
    "import matplotlib as mpl\n",
    "from matplotlib import pyplot as plt\n",
    "import random\n",
    "import warnings\n",
    "import numpy as np\n",
    "warnings.filterwarnings('ignore')"
   ]
  },
  {
   "cell_type": "code",
   "execution_count": 178,
   "metadata": {},
   "outputs": [],
   "source": [
    "params = {'axes.labelsize': 8,'axes.titlesize':8}\n",
    "mpl.rcParams.update(params)"
   ]
  },
  {
   "cell_type": "code",
   "execution_count": 199,
   "metadata": {},
   "outputs": [],
   "source": [
    "def heart_centered(cen_x,cen_y,diam,text=None):\n",
    "    res = []\n",
    "    fig, ax = plt.subplots()\n",
    "    min_x = -.5*diam+cen_x\n",
    "    max_x = .5*diam+cen_x\n",
    "    x = scipy.linspace(min_x,max_x,300)\n",
    "    y1 = diam*0.25*scipy.sqrt(1-(abs(((x-cen_x)*4/diam))-1)**2)+cen_y\n",
    "    y2 = diam*-.75*scipy.sqrt(1-(abs((x-cen_x)*2/diam))**0.5)+cen_y\n",
    "    vertex_y = np.real(diam*-.75*scipy.sqrt(1-(abs(max_x*2/diam-cen_x))**0.5)+cen_y)\n",
    "    #vertex_y = 1-(abs(min_x*2/diam-cen_x))\n",
    "    mid_y = min(y2)+(max(y1) - min(y2))/2\n",
    "    y1 += (vertex_y - mid_y)\n",
    "    y2 += (vertex_y - mid_y)\n",
    "    #ax.set_xlim([min(, 1])\n",
    "    color = random.choice(['red','#ff9ed7','#ff9ea7','#ff9e9e','#fed4d6','#ffc69e']) #https://www.beautycolorcode.com/ffc69e\n",
    "    res.append(ax.fill_between(x, y1, cen_y+vertex_y-mid_y,color=color))\n",
    "    res.append(ax.fill_between(x, y2, cen_y+vertex_y-mid_y,color=color))\n",
    "\n",
    "    #plt.fill_between(x, y3, color='red')\n",
    "    #plt.fill_between(x, y4, color='red')\n",
    "    if text:\n",
    "        res.append(ax.text(cen_x, cen_y, text, fontweight='bold',\n",
    "               color='blue', horizontalalignment='center',fontproperties=fp))\n",
    "    return res\n"
   ]
  },
  {
   "cell_type": "code",
   "execution_count": 201,
   "metadata": {},
   "outputs": [
    {
     "name": "stdout",
     "output_type": "stream",
     "text": [
      "0.0\n",
      "-23.899581756823018\n"
     ]
    },
    {
     "data": {
      "text/plain": [
       "[<matplotlib.collections.PolyCollection at 0x187f2f28>,\n",
       " <matplotlib.collections.PolyCollection at 0x187ff1d0>,\n",
       " Text(0,0,'라부')]"
      ]
     },
     "execution_count": 201,
     "metadata": {},
     "output_type": "execute_result"
    },
    {
     "data": {
      "image/png": "[encoded data removed]",
      "text/plain": [
       "<matplotlib.figure.Figure at 0x177770f0>"
      ]
     },
     "metadata": {
      "needs_background": "light"
     },
     "output_type": "display_data"
    }
   ],
   "source": [
    "heart_centered(0,0,100,text=\"라부\")"
   ]
  },
  {
   "cell_type": "code",
   "execution_count": 115,
   "metadata": {},
   "outputs": [
    {
     "data": {
      "text/plain": [
       "array([-1.75      , -1.70924395, -1.69255664, -1.67988543, -1.66931546,\n",
       "       -1.66010247, -1.65186354, -1.64437049, -1.63747422, -1.63107087,\n",
       "       -1.62508462, -1.61945807, -1.61414651, -1.60911433, -1.60433256,\n",
       "       -1.59977729, -1.59542849, -1.5912692 , -1.58728487, -1.58346295,\n",
       "       -1.5797925 , -1.57626392, -1.57286873, -1.56959939, -1.56644919,\n",
       "       -1.56341209, -1.56048265, -1.55765596, -1.55492754, -1.55229332,\n",
       "       -1.5497496 , -1.54729296, -1.54492027, -1.54262866, -1.54041545,\n",
       "       -1.5382782 , -1.53621462, -1.53422261, -1.53230019, -1.53044554,\n",
       "       -1.52865696, -1.52693285, -1.52527174, -1.52367223, -1.52213303,\n",
       "       -1.52065292, -1.51923077, -1.51786551, -1.51655614, -1.51530173,\n",
       "       -1.51410141, -1.51295434, -1.51185976, -1.51081695, -1.50982523,\n",
       "       -1.50888398, -1.50799261, -1.50715056, -1.50635733, -1.50561243,\n",
       "       -1.50491544, -1.50426594, -1.50366355, -1.50310793, -1.50259877,\n",
       "       -1.50213578, -1.5017187 , -1.5013473 , -1.50102137, -1.50074074,\n",
       "       -1.50050526, -1.50031479, -1.50016924, -1.50006852, -1.50001258,\n",
       "       -1.5000014 , -1.50003496, -1.50011328, -1.50023641, -1.50040441,\n",
       "       -1.50061737, -1.5008754 , -1.50117866, -1.5015273 , -1.50192151,\n",
       "       -1.50236152, -1.50284756, -1.50337991, -1.50395887, -1.50458477,\n",
       "       -1.50525797, -1.50597887, -1.50674787, -1.50756545, -1.5084321 ,\n",
       "       -1.50934834, -1.51031474, -1.51133192, -1.51240053, -1.51352126,\n",
       "       -1.51469486, -1.51592212, -1.5172039 , -1.51854109, -1.51993467,\n",
       "       -1.52138566, -1.52289517, -1.52446437, -1.52609451, -1.52778694,\n",
       "       -1.5295431 , -1.53136451, -1.53325282, -1.5352098 , -1.53723734,\n",
       "       -1.53933748, -1.54151241, -1.5437645 , -1.54609631, -1.5485106 ,\n",
       "       -1.55101037, -1.5535989 , -1.55627973, -1.55905675, -1.56193424,\n",
       "       -1.56491686, -1.56800979, -1.57121877, -1.57455014, -1.57801103,\n",
       "       -1.58160942, -1.58535433, -1.58925599, -1.59332612, -1.59757821,\n",
       "       -1.60202795, -1.60669374, -1.61159745, -1.61676532, -1.62222942,\n",
       "       -1.62802955, -1.63421619, -1.64085506, -1.64803444, -1.65587794,\n",
       "       -1.6645683 , -1.67439696, -1.68588532, -1.70016835, -1.72113265,\n",
       "       -1.72113265, -1.70016835, -1.68588532, -1.67439696, -1.6645683 ,\n",
       "       -1.65587794, -1.64803444, -1.64085506, -1.63421619, -1.62802955,\n",
       "       -1.62222942, -1.61676532, -1.61159745, -1.60669374, -1.60202795,\n",
       "       -1.59757821, -1.59332612, -1.58925599, -1.58535433, -1.58160942,\n",
       "       -1.57801103, -1.57455014, -1.57121877, -1.56800979, -1.56491686,\n",
       "       -1.56193424, -1.55905675, -1.55627973, -1.5535989 , -1.55101037,\n",
       "       -1.5485106 , -1.54609631, -1.5437645 , -1.54151241, -1.53933748,\n",
       "       -1.53723734, -1.5352098 , -1.53325282, -1.53136451, -1.5295431 ,\n",
       "       -1.52778694, -1.52609451, -1.52446437, -1.52289517, -1.52138566,\n",
       "       -1.51993467, -1.51854109, -1.5172039 , -1.51592212, -1.51469486,\n",
       "       -1.51352126, -1.51240053, -1.51133192, -1.51031474, -1.50934834,\n",
       "       -1.5084321 , -1.50756545, -1.50674787, -1.50597887, -1.50525797,\n",
       "       -1.50458477, -1.50395887, -1.50337991, -1.50284756, -1.50236152,\n",
       "       -1.50192151, -1.5015273 , -1.50117866, -1.5008754 , -1.50061737,\n",
       "       -1.50040441, -1.50023641, -1.50011328, -1.50003496, -1.5000014 ,\n",
       "       -1.50001258, -1.50006852, -1.50016924, -1.50031479, -1.50050526,\n",
       "       -1.50074074, -1.50102137, -1.5013473 , -1.5017187 , -1.50213578,\n",
       "       -1.50259877, -1.50310793, -1.50366355, -1.50426594, -1.50491544,\n",
       "       -1.50561243, -1.50635733, -1.50715056, -1.50799261, -1.50888398,\n",
       "       -1.50982523, -1.51081695, -1.51185976, -1.51295434, -1.51410141,\n",
       "       -1.51530173, -1.51655614, -1.51786551, -1.51923077, -1.52065292,\n",
       "       -1.52213303, -1.52367223, -1.52527174, -1.52693285, -1.52865696,\n",
       "       -1.53044554, -1.53230019, -1.53422261, -1.53621462, -1.5382782 ,\n",
       "       -1.54041545, -1.54262866, -1.54492027, -1.54729296, -1.5497496 ,\n",
       "       -1.55229332, -1.55492754, -1.55765596, -1.56048265, -1.56341209,\n",
       "       -1.56644919, -1.56959939, -1.57286873, -1.57626392, -1.5797925 ,\n",
       "       -1.58346295, -1.58728487, -1.5912692 , -1.59542849, -1.59977729,\n",
       "       -1.60433256, -1.60911433, -1.61414651, -1.61945807, -1.62508462,\n",
       "       -1.63107087, -1.63747422, -1.64437049, -1.65186354, -1.66010247,\n",
       "       -1.66931546, -1.67988543, -1.69255664, -1.70924395, -1.75      ])"
      ]
     },
     "execution_count": 115,
     "metadata": {},
     "output_type": "execute_result"
    }
   ],
   "source": [
    "y1 - 2"
   ]
  },
  {
   "cell_type": "code",
   "execution_count": null,
   "metadata": {},
   "outputs": [],
   "source": []
  },
  {
   "cell_type": "code",
   "execution_count": 103,
   "metadata": {},
   "outputs": [
    {
     "data": {
      "text/plain": [
       "[<matplotlib.collections.PolyCollection at 0xfa7b4a8>,\n",
       " <matplotlib.collections.PolyCollection at 0xfa7b710>,\n",
       " Text(0,0,'HI')]"
      ]
     },
     "execution_count": 103,
     "metadata": {},
     "output_type": "execute_result"
    },
    {
     "data": {
      "image/png": "[encoded data removed]",
      "text/plain": [
       "<matplotlib.figure.Figure at 0xea29c18>"
      ]
     },
     "metadata": {
      "needs_background": "light"
     },
     "output_type": "display_data"
    }
   ],
   "source": [
    "heart_centered(0,0,100,'HI')"
   ]
  },
  {
   "cell_type": "code",
   "execution_count": 11,
   "metadata": {},
   "outputs": [],
   "source": [
    "#create a figure to animate\n",
    "# https://matplotlib.org/3.1.1/gallery/animation/dynamic_image.html\n",
    "import numpy as np\n",
    "import matplotlib as mpl\n",
    "import matplotlib.pyplot as plt\n",
    "import matplotlib.animation as animation\n"
   ]
  },
  {
   "cell_type": "code",
   "execution_count": 22,
   "metadata": {
    "scrolled": true
   },
   "outputs": [
    {
     "name": "stdout",
     "output_type": "stream",
     "text": [
      "check1\n",
      "check2\n",
      "check3\n"
     ]
    },
    {
     "name": "stderr",
     "output_type": "stream",
     "text": [
      "C:\\ProgramData\\Anaconda3\\lib\\site-packages\\matplotlib\\axes\\_axes.py:4834: ComplexWarning: Casting complex values to real discards the imaginary part\n",
      "  X[1:N + 1, 1] = y1slice\n",
      "C:\\ProgramData\\Anaconda3\\lib\\site-packages\\numpy\\core\\numeric.py:492: ComplexWarning: Casting complex values to real discards the imaginary part\n",
      "  return array(a, dtype, copy=False, order=order)\n"
     ]
    },
    {
     "data": {
      "text/plain": [
       "<matplotlib.figure.Figure at 0x8e3fa58>"
      ]
     },
     "metadata": {},
     "output_type": "display_data"
    },
    {
     "data": {
      "image/png": "[encoded data removed]",
      "text/plain": [
       "<matplotlib.figure.Figure at 0x8e3f4a8>"
      ]
     },
     "metadata": {
      "needs_background": "light"
     },
     "output_type": "display_data"
    }
   ],
   "source": [
    "fig = plt.figure()\n",
    "plt.rcParams['animation.ffmpeg_path'] = r'C:\\ffmpeg\\ffmpeg.exe'\n",
    "\n",
    "def f(x, y):\n",
    "    return np.sin(x) + np.cos(y)\n",
    "\n",
    "x = np.linspace(0, 2 * np.pi, 120)\n",
    "y = np.linspace(0, 2 * np.pi, 100).reshape(-1, 1)\n",
    "# ims is a list of lists, each row is a list of artists to draw in the\n",
    "# current frame; here we are just animating one artist, the image, in\n",
    "# each frame\n",
    "ims = []\n",
    "\n",
    "fig, ax = plt.subplots()\n",
    "\n",
    "ax.set_xlim([-2.5, 16.5])\n",
    "x = scipy.linspace(-2,16,3000)\n",
    "y1 = scipy.sqrt(1-(abs(x)-1)**2)\n",
    "y2 = -3*scipy.sqrt(1-(abs(x)/2)**0.5)\n",
    "#im = plt.imshow(f(x, y), animated=True)\n",
    "print('check1')\n",
    "#img = ax.get_images()[0]\n",
    "#print(type(img))\n",
    "ims.append([ax.fill_between(x, y2, color='red'),ax.fill_between(x, y1, color='red')])\n",
    "\n",
    "y3 = scipy.sqrt(1-(abs(x-4)-1)**2)\n",
    "y4 = -3*scipy.sqrt(1-(abs(x-4)/2)**0.5)\n",
    "\n",
    "print('check2')\n",
    "ims.append([ax.fill_between(x, y3, color='blue'),ax.fill_between(x, y4, color='blue')])\n",
    "\n",
    "y5 = scipy.sqrt(1-(abs(x-8)-1)**2)\n",
    "y6 = -3*scipy.sqrt(1-(abs(x-8)/2)**0.5)\n",
    "print('check3')\n",
    "ims.append([ax.fill_between(x, y5, color='purple'),ax.fill_between(x, y6, color='purple')])\n",
    "\n",
    "y7 = scipy.sqrt(1-(abs(x-12)-1)**2)\n",
    "y8 = -3*scipy.sqrt(1-(abs(x-12)/2)**0.5)\n",
    "ims.append([ax.fill_between(x, y7, color='purple'),ax.fill_between(x, y8, color='purple')])\n",
    "\n",
    "\n",
    "#for i in range(60):\n",
    "#    x += np.pi / 15.\n",
    "#    y += np.pi / 20.\n",
    "    \n",
    "ani = animation.ArtistAnimation(fig, ims, interval=5000, blit=False,repeat=True)"
   ]
  },
  {
   "cell_type": "code",
   "execution_count": 23,
   "metadata": {},
   "outputs": [
    {
     "data": {
      "text/plain": [
       "<matplotlib.animation.ArtistAnimation at 0x8f91128>"
      ]
     },
     "execution_count": 23,
     "metadata": {},
     "output_type": "execute_result"
    }
   ],
   "source": [
    "ani"
   ]
  },
  {
   "cell_type": "code",
   "execution_count": 27,
   "metadata": {},
   "outputs": [],
   "source": [
    "from matplotlib.animation import FFMpegWriter\n",
    "writer = FFMpegWriter(fps=1, metadata=dict(artist='Me'), bitrate=1800)\n",
    "ani.save(r\"C:\\Users\\jerrychi\\Downloads\\asdf{}.mp4\".format(arrow.utcnow().format('YYYY-MM-DD-hh-mm-ss')),writer=writer)"
   ]
  },
  {
   "cell_type": "code",
   "execution_count": null,
   "metadata": {},
   "outputs": [],
   "source": []
  },
  {
   "cell_type": "code",
   "execution_count": 47,
   "metadata": {},
   "outputs": [],
   "source": [
    "import pandas as pd\n",
    "df = pd.DataFrame([1,2])"
   ]
  },
  {
   "cell_type": "code",
   "execution_count": 49,
   "metadata": {},
   "outputs": [],
   "source": [
    "df.to_csv(r\"C:\\Users\\jerrychi\\Downloads\\asdf.csv\")"
   ]
  },
  {
   "cell_type": "code",
   "execution_count": 86,
   "metadata": {},
   "outputs": [
    {
     "name": "stdout",
     "output_type": "stream",
     "text": [
      "<class 'matplotlib.lines.Line2D'>\n",
      "<class 'matplotlib.lines.Line2D'>\n"
     ]
    },
    {
     "data": {
      "image/png": "[encoded data removed]",
      "text/plain": [
       "<matplotlib.figure.Figure at 0xe86b278>"
      ]
     },
     "metadata": {
      "needs_background": "light"
     },
     "output_type": "display_data"
    }
   ],
   "source": [
    "x = np.linspace(0, np.pi * 4, 100)\n",
    "\n",
    "fig, [axes1, axes2] = plt.subplots(1, 2, figsize=(8, 4))\n",
    "frames = []  # 各フレームを構成する Artist 一覧\n",
    "for delta in np.linspace(0, np.pi, 30):\n",
    "    y1 = np.sin(x + delta)\n",
    "    y2 = np.cos(x + delta)\n",
    "\n",
    "    artists1 = axes1.plot(x, y1, c='b')\n",
    "    artists2 = axes2.plot(x, y2, c='g')\n",
    "    print(type(artists1[0]))\n",
    "    # このフレームを構成する Artist 一覧を1つにまとめる。\n",
    "    frame = artists1 + artists2\n",
    "    print(type(frame[0]))\n",
    "    break\n",
    "    frames.append(frame)"
   ]
  },
  {
   "cell_type": "code",
   "execution_count": null,
   "metadata": {},
   "outputs": [],
   "source": []
  }
 ],
 "metadata": {
  "kernelspec": {
   "display_name": "Python 3",
   "language": "python",
   "name": "python3"
  },
  "language_info": {
   "codemirror_mode": {
    "name": "ipython",
    "version": 3
   },
   "file_extension": ".py",
   "mimetype": "text/x-python",
   "name": "python",
   "nbconvert_exporter": "python",
   "pygments_lexer": "ipython3",
   "version": "3.6.4"
  }
 },
 "nbformat": 4,
 "nbformat_minor": 2
}
