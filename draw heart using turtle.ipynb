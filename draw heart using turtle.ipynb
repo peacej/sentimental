{
 "cells": [
  {
   "cell_type": "code",
   "execution_count": 1,
   "metadata": {},
   "outputs": [],
   "source": [
    "#incomplete as of 2019-10-02"
   ]
  },
  {
   "cell_type": "code",
   "execution_count": 1,
   "metadata": {},
   "outputs": [],
   "source": [
    "# copied from https://tokkunchu.blogspot.com/2018/06/draw-heart-shape-using-turtle-matplotlib.html\n",
    "# https://medium.com/@jiyuanli93/how-to-make-python-turtle-works-in-jupyter-notebook-6c506b9a973f"
   ]
  },
  {
   "cell_type": "code",
   "execution_count": 2,
   "metadata": {},
   "outputs": [],
   "source": [
    "#from ipyturtle import Turtle # doesn't seem to work\n",
    "#t = Turtle(fixed=False, width=800, height=800)"
   ]
  },
  {
   "cell_type": "code",
   "execution_count": 3,
   "metadata": {},
   "outputs": [],
   "source": [
    "import arrow"
   ]
  },
  {
   "cell_type": "code",
   "execution_count": 4,
   "metadata": {},
   "outputs": [
    {
     "name": "stdout",
     "output_type": "stream",
     "text": [
      "0.5b\n"
     ]
    }
   ],
   "source": [
    "import mobilechelonian\n",
    "print(mobilechelonian.__version__) #forked version"
   ]
  },
  {
   "cell_type": "code",
   "execution_count": 5,
   "metadata": {},
   "outputs": [],
   "source": [
    "from mobilechelonian import Turtle #https://github.com/peacej/mobilechelonian"
   ]
  },
  {
   "cell_type": "code",
   "execution_count": 6,
   "metadata": {},
   "outputs": [],
   "source": [
    "import os.path\n",
    "import math\n",
    "\n",
    "from ipywidgets import widgets\n",
    "from notebook import nbextensions\n",
    "from traitlets import Unicode, List\n",
    "from IPython.display import display"
   ]
  },
  {
   "cell_type": "code",
   "execution_count": 7,
   "metadata": {
    "code_folding": [
     0
    ]
   },
   "outputs": [],
   "source": [
    "# mathライブラリから、関数cos(),sin() と 円周率piをインポートします\n",
    "from math import cos,sin, pi\n",
    "\n",
    "# 円周率は定数なので、なんとなく大文字PIで表記しました。別に小文字のままpiで問題ないと思います\n",
    "PI=pi\n",
    "\n",
    "# ハートを描く関数です。\n",
    "def draw_my_heart(ttl, radius, alpha=45, theta=210, degrees=0):\n",
    "    #ttl.setheading(degrees) # カーソルの向きを設定する。右0度,上90度,左180度,下270度。\n",
    "    #ttl.penup() # ペンを上げる（ペンを上げると、移動中に線が引かれない）\n",
    "    #ttl.goto(x, y) # カーソルが(x,y) の座標に移動する\n",
    "    #ttl.pendown() # ペンを下ろす（ペンを下ろすと、移動中に線が引かれる）\n",
    "\n",
    "    # 長ったらしい数式を書くので、変数を短めにしました\n",
    "    r = radius # 扇形の半径\n",
    "    a = alpha # 水平方向と直線の角度\n",
    "    t = theta # 扇形の中心角\n",
    "\n",
    "    # 直線の長さです。作図して求めました\n",
    "    straight = r*(-cos((a+90)*PI/180)-cos((t+a-90)*PI/180)) / cos(a*PI/180)\n",
    "\n",
    "    ttl.left(a) # 左にa度カーソルの向きを変えます\n",
    "    ttl.forward(straight) # カーソルが向いてる方向にstraightの長さ進みます。右の直線部分。\n",
    "    ttl.circle(r,t) # 半径rでt度の扇形を描きます。右側の扇形。\n",
    "    ttl.left(720-2*a-2*t) # 真ん中で左に(720-2*a-2*t)度カーソルの向きを変えます。作図して求めた角度。\n",
    "    ttl.circle(r,t) # 半径rでt度の扇形を描きます。左側の扇形。\n",
    "    ttl.forward(straight) #カーソルが向いてる方向にstraightの長さ進みます。左の直線部分。"
   ]
  },
  {
   "cell_type": "code",
   "execution_count": 17,
   "metadata": {},
   "outputs": [
    {
     "data": {
      "application/vnd.jupyter.widget-view+json": {
       "model_id": "bb3b47fee82741d89066a684188a963e",
       "version_major": 2,
       "version_minor": 0
      },
      "text/html": [
       "<p>Failed to display Jupyter Widget of type <code>Turtle</code>.</p>\n",
       "<p>\n",
       "  If you're reading this message in the Jupyter Notebook or JupyterLab Notebook, it may mean\n",
       "  that the widgets JavaScript is still loading. If this message persists, it\n",
       "  likely means that the widgets JavaScript library is either not installed or\n",
       "  not enabled. See the <a href=\"https://ipywidgets.readthedocs.io/en/stable/user_install.html\">Jupyter\n",
       "  Widgets Documentation</a> for setup instructions.\n",
       "</p>\n",
       "<p>\n",
       "  If you're reading this message in another frontend (for example, a static\n",
       "  rendering on GitHub or <a href=\"https://nbviewer.jupyter.org/\">NBViewer</a>),\n",
       "  it may mean that your frontend doesn't currently support widgets.\n",
       "</p>\n"
      ],
      "text/plain": [
       "Turtle()"
      ]
     },
     "metadata": {},
     "output_type": "display_data"
    }
   ],
   "source": [
    "#x = 0 # ハートの一番下の点のx座標\n",
    "\n",
    "#y = -150 # ハートの一番下の点のy座標\n",
    "r = 40 # ハートの扇形の半径\n",
    "\n",
    "#scr = turtle.Screen() # 画面を作ります。Screenクラスのインスタンスを作っています。\n",
    "#scr.title('draw a heart') # 画面の上にこのタイトルが表示されます\n",
    "#scr.setup (width, height, 0, 0) # 画面のサイズです\n",
    "#t = Turtle(width=800, height=800) # Turtle オブジェクト（絵を描くカーソル）を作ります\n",
    "#ttl.speed(3) # 絵を描くスピードを設定します\n",
    "#ttl.shape('turtle') # カーソルは'turtle'(亀)にしました\n",
    "#ttl.screen.screensize(width+100, height+100) # この範囲まで画面をスクロールできます。タートルが画面外に行った時、追いかけられるように大きめに設定\n",
    "\n",
    "#ttl.pencolor('red') # ペンの色を赤に設定\n",
    "#ttl.fillcolor('red') # 塗りつぶしに使う色を赤に設定\n",
    "#ttl.pensize(1) # ペンの太さを1に設定\n",
    "t = Turtle()\n",
    "t.speed(500)\n",
    "#ttl.begin_fill() # ここから塗りつぶし開始\n",
    "draw_my_heart(t, r) # ハートを描く。デフォルト値を決めてる引数alpha=45, theta=210, degrees=0は省略されています、\n",
    "#ttl.end_fill() # ここまで塗りつぶす\n",
    "\n",
    "#ttl.hideturtle() # カーソルを見えないようにする\n",
    "#scr.exitonclick() # 画面をクリックしたら終了する"
   ]
  },
  {
   "cell_type": "code",
   "execution_count": null,
   "metadata": {},
   "outputs": [],
   "source": []
  }
 ],
 "metadata": {
  "kernelspec": {
   "display_name": "Python 3",
   "language": "python",
   "name": "python3"
  },
  "language_info": {
   "codemirror_mode": {
    "name": "ipython",
    "version": 3
   },
   "file_extension": ".py",
   "mimetype": "text/x-python",
   "name": "python",
   "nbconvert_exporter": "python",
   "pygments_lexer": "ipython3",
   "version": "3.6.4"
  }
 },
 "nbformat": 4,
 "nbformat_minor": 2
}
