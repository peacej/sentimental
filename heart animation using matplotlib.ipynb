{
 "cells": [
  {
   "cell_type": "markdown",
   "metadata": {},
   "source": [
    "# next time consider using manim package from 3Blue1Brown"
   ]
  },
  {
   "cell_type": "code",
   "execution_count": 1,
   "metadata": {},
   "outputs": [],
   "source": [
    "from matplotlib.font_manager import FontProperties\n",
    "fp = FontProperties(fname=r'C:\\WINDOWS\\Fonts\\TH-Tshyn-P0.ttf', size=35) # TH-Tshyn-P0.ttf works with CJK characters. http://cheonhyeong.com/English/download.html"
   ]
  },
  {
   "cell_type": "code",
   "execution_count": 2,
   "metadata": {},
   "outputs": [],
   "source": [
    "import scipy\n",
    "import matplotlib as mpl\n",
    "from matplotlib import pyplot as plt\n",
    "import random\n",
    "import warnings\n",
    "import arrow\n",
    "import numpy as np\n",
    "warnings.filterwarnings('ignore')\n",
    "import matplotlib.animation as animation # # https://matplotlib.org/3.1.1/gallery/animation/dynamic_image.html"
   ]
  },
  {
   "cell_type": "code",
   "execution_count": 3,
   "metadata": {},
   "outputs": [],
   "source": [
    "params = {'axes.labelsize': 8,'axes.titlesize':8}\n",
    "mpl.rcParams.update(params)"
   ]
  },
  {
   "cell_type": "code",
   "execution_count": 114,
   "metadata": {},
   "outputs": [],
   "source": [
    "def heart(ax,pos_x,pos_y,diam,text=None,centered=False,straightness=0):\n",
    "    \"\"\"if centered=True, cen_x and cen_y refer to the center of the heart.\n",
    "       if centered_False, cen_x and cen_y refer to the upper left corner of the invisible square containing the heart\n",
    "       ::straightness:: value between 0 and 1. 1 makes the sides perfectly straight.\n",
    "    \"\"\"\n",
    "    if centered:\n",
    "        cen_x, cen_y = pos_x, pos_y\n",
    "    else:\n",
    "        cen_x = pos_x + diam/2\n",
    "        cen_y = pos_y - diam/2\n",
    "    res = []\n",
    "    #fig, ax = plt.subplots()\n",
    "    min_x = -.5*diam+cen_x\n",
    "    max_x = .5*diam+cen_x\n",
    "    x = scipy.linspace(min_x,max_x,300)\n",
    "    top_y = diam*0.25*scipy.sqrt(1-(abs(((x-cen_x)*4/diam))-1)**2)+cen_y # top half of heart\n",
    "    bottom_y = diam*-.75*scipy.sqrt(1-(abs((x-cen_x)*2/diam))**0.5)+cen_y # bottom half\n",
    "    if straightness > 0:\n",
    "        slope = .72799/0.5\n",
    "        bottom_y_straight = [-slope*(x_i-cen_x)-.72799*diam+cen_y if x_i<cen_x else slope*(x_i-cen_x)-.72799*diam+cen_y  for x_i in x]\n",
    "        bottom_y = [straightness * a + (1-straightness)*b for a,b in zip(bottom_y_straight,bottom_y)]\n",
    "    vertex_y = np.real(diam*-.75*scipy.sqrt(1-(abs(max_x*2/diam-cen_x))**0.5)+cen_y) #y coord of where the top half meets the bottom half\n",
    "    mid_y = min(bottom_y)+(max(top_y) - min(bottom_y))/2\n",
    "    top_y += (vertex_y - mid_y)\n",
    "    bottom_y += (vertex_y - mid_y)\n",
    "    color = random.choice(['red','#ff9ed7','#ff9ea7','#ff9e9e','#fed4d6','#ffc69e']) #https://www.beautycolorcode.com/ffc69e\n",
    "    res.append(ax.fill_between(x, top_y, cen_y+vertex_y-mid_y,color=color))\n",
    "    res.append(ax.fill_between(x, bottom_y, cen_y+vertex_y-mid_y,color=color))\n",
    "    if text:\n",
    "        res.append(ax.text(cen_x, cen_y, text, fontweight='bold',\n",
    "               color='blue', horizontalalignment='center',fontproperties=fp))\n",
    "    return res"
   ]
  },
  {
   "cell_type": "code",
   "execution_count": 137,
   "metadata": {},
   "outputs": [
    {
     "data": {
      "text/plain": [
       "[<matplotlib.collections.PolyCollection at 0x1b4602e8>,\n",
       " <matplotlib.collections.PolyCollection at 0x1cc59390>]"
      ]
     },
     "execution_count": 137,
     "metadata": {},
     "output_type": "execute_result"
    },
    {
     "data": {
      "image/png": "[encoded data removed]",
      "text/plain": [
       "<matplotlib.figure.Figure at 0x1b460400>"
      ]
     },
     "metadata": {
      "needs_background": "light"
     },
     "output_type": "display_data"
    }
   ],
   "source": [
    "fig, ax = plt.subplots()\n",
    "heart(ax,20,20,100,centered=False)"
   ]
  },
  {
   "cell_type": "code",
   "execution_count": 138,
   "metadata": {},
   "outputs": [
    {
     "data": {
      "text/plain": [
       "[<matplotlib.collections.PolyCollection at 0x1cc31208>,\n",
       " <matplotlib.collections.PolyCollection at 0x1ccbd278>]"
      ]
     },
     "execution_count": 138,
     "metadata": {},
     "output_type": "execute_result"
    },
    {
     "data": {
      "image/png": "[encoded data removed]",
      "text/plain": [
       "<matplotlib.figure.Figure at 0x1cc311d0>"
      ]
     },
     "metadata": {
      "needs_background": "light"
     },
     "output_type": "display_data"
    }
   ],
   "source": [
    "fig, ax = plt.subplots()\n",
    "heart(ax,2,2,10,centered=False, straightness=1)"
   ]
  },
  {
   "cell_type": "code",
   "execution_count": 115,
   "metadata": {},
   "outputs": [
    {
     "name": "stdout",
     "output_type": "stream",
     "text": [
      "[1, 2, 3, 4]\n"
     ]
    }
   ],
   "source": [
    "a = [[1,2],[3,4]]\n",
    "flatten = lambda l: [item for sublist in l for item in sublist]\n",
    "print(flatten(a))"
   ]
  },
  {
   "cell_type": "code",
   "execution_count": 116,
   "metadata": {},
   "outputs": [],
   "source": [
    "# draw korean characters with ones . each 1 will be rendered as a heart.\n",
    "rabu_coord =\"\"\"\n",
    "111\t10\t\t1\t0\t0\t0\t1\n",
    "001\t10\t\t1\t1\t1\t1\t1\n",
    "001\t10\t\t1\t0\t0\t0\t1\n",
    "111\t11\t\t1\t1\t1\t1\t1\n",
    "100\t10\t\t\t\t\t\n",
    "100\t10\t\t1\t1\t1\t1\t1\n",
    "111\t10\t\t0\t0\t1\t0\t0\"\"\""
   ]
  },
  {
   "cell_type": "code",
   "execution_count": 117,
   "metadata": {},
   "outputs": [],
   "source": [
    "rabu_coord_lines = rabu_coord.split('\\n')[1:]"
   ]
  },
  {
   "cell_type": "code",
   "execution_count": 118,
   "metadata": {},
   "outputs": [],
   "source": [
    "coords = []\n",
    "for y,row in enumerate(rabu_coord_lines):\n",
    "    for x,value in enumerate(row):\n",
    "        if value=='1':\n",
    "            coords.append((x,y))"
   ]
  },
  {
   "cell_type": "code",
   "execution_count": 119,
   "metadata": {},
   "outputs": [],
   "source": [
    "max_x = max([x for x,y in coords])\n",
    "max_y = max([y for x,y in coords])"
   ]
  },
  {
   "cell_type": "code",
   "execution_count": 120,
   "metadata": {},
   "outputs": [],
   "source": [
    "# flip y coordinates\n",
    "coords = [(x,max_y-y) for x,y in coords]"
   ]
  },
  {
   "cell_type": "code",
   "execution_count": 121,
   "metadata": {},
   "outputs": [],
   "source": [
    "#convert to actual coordinates assuming width and height of canvas is 800\n",
    "rabu_coords = [(int(x*720/max_x+1),int(y*720/max_y+1)) for x,y in coords]\n",
    "rabu_coords.append(rabu_coords[-1]) # repeat the last frame for a bit\n",
    "rabu_coords.append(rabu_coords[-1])\n",
    "rabu_coords.append(rabu_coords[-1])"
   ]
  },
  {
   "cell_type": "code",
   "execution_count": 133,
   "metadata": {},
   "outputs": [],
   "source": [
    "%%capture\n",
    "fig, ax = plt.subplots()\n",
    "plt.rcParams['animation.ffmpeg_path'] = r'C:\\ffmpeg\\ffmpeg.exe'\n",
    "ax.set_xlim([0, 800])\n",
    "ax.set_yticklabels([])\n",
    "ax.set_xticklabels([])\n",
    "ims = []\n",
    "for diam in range(100,801,100):\n",
    "    ims.append(heart(ax,400,400,diam,text=\"Yoyo와이피\",centered=True))\n",
    "segasapi = []\n",
    "segasapi.append(heart(ax,1,799,398,text=\"세 \"))\n",
    "segasapi.append(heart(ax,401,799,398,text=\"가 \"))\n",
    "segasapi.append(heart(ax,1,401,398,text=\"사 \"))\n",
    "segasapi.append(heart(ax,401,401,398,text=\"피 \"))\n",
    "segasapi.append(heart(ax,401,401,398,text=\"피 \"))\n",
    "segasapi.append(heart(ax,401,401,398,text=\"피 \"))\n",
    "for i,p in enumerate(segasapi):\n",
    "    ims.append(flatten(segasapi[:i+1])) # add all the plot elements up until this index\n",
    "rabu = []\n",
    "for (x,y) in rabu_coords:\n",
    "    rabu.append(heart(ax,x,y,65))\n",
    "for i,p in enumerate(rabu):\n",
    "    ims.append(flatten(rabu[:i+1])) # add all the plot elements up until this index\n",
    "for diam in list(range(100,501,50)) + list(range(501,100,-50)) + list(range(100,801,50)):\n",
    "    ims.append(heart(ax,400,400,diam,text=\"생일축하!\",centered=True))\n",
    "for diam in range(100,801,100):\n",
    "    ims.append(heart(ax,400,400,diam,text=\"激らぶ!\",centered=True))\n",
    "for straightness in list(np.arange(0,1.01,.1)) + list(np.arange(1,0,-.1)):\n",
    "    ims.append(heart(ax,400,400,800,text=\"激らぶ!\",centered=True,straightness=straightness))\n",
    "for diam in range(100,801,25):\n",
    "    ims.append(heart(ax,400,400,diam,text=\"from허비\",centered=True))\n",
    "ani = animation.ArtistAnimation(fig, ims, interval=2000, blit=False,repeat=False)"
   ]
  },
  {
   "cell_type": "code",
   "execution_count": 134,
   "metadata": {},
   "outputs": [],
   "source": [
    "from matplotlib.animation import FFMpegWriter\n",
    "writer = FFMpegWriter(fps=4, metadata=dict(artist='Me'), bitrate=1200)\n",
    "ani.save(r\"C:\\Users\\jerrychi\\Downloads\\heart{}.mp4\".format(arrow.utcnow().format('YYYY-MM-DD-hh-mm-ss')),writer=writer)"
   ]
  },
  {
   "cell_type": "code",
   "execution_count": null,
   "metadata": {},
   "outputs": [],
   "source": []
  }
 ],
 "metadata": {
  "kernelspec": {
   "display_name": "Python 3",
   "language": "python",
   "name": "python3"
  },
  "language_info": {
   "codemirror_mode": {
    "name": "ipython",
    "version": 3
   },
   "file_extension": ".py",
   "mimetype": "text/x-python",
   "name": "python",
   "nbconvert_exporter": "python",
   "pygments_lexer": "ipython3",
   "version": "3.6.4"
  }
 },
 "nbformat": 4,
 "nbformat_minor": 2
}
