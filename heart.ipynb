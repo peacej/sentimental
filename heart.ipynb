{
 "cells": [
  {
   "cell_type": "code",
   "execution_count": 1,
   "metadata": {},
   "outputs": [],
   "source": [
    "# copied from https://tokkunchu.blogspot.com/2018/06/draw-heart-shape-using-turtle-matplotlib.html\n",
    "# https://medium.com/@jiyuanli93/how-to-make-python-turtle-works-in-jupyter-notebook-6c506b9a973f"
   ]
  },
  {
   "cell_type": "code",
   "execution_count": 2,
   "metadata": {},
   "outputs": [],
   "source": [
    "#from ipyturtle import Turtle # doesn't seem to work\n",
    "#t = Turtle(fixed=False, width=800, height=800)"
   ]
  },
  {
   "cell_type": "code",
   "execution_count": 3,
   "metadata": {},
   "outputs": [],
   "source": [
    "import arrow"
   ]
  },
  {
   "cell_type": "code",
   "execution_count": 4,
   "metadata": {},
   "outputs": [
    {
     "name": "stdout",
     "output_type": "stream",
     "text": [
      "0.5b\n"
     ]
    }
   ],
   "source": [
    "import mobilechelonian\n",
    "print(mobilechelonian.__version__) #forked version"
   ]
  },
  {
   "cell_type": "code",
   "execution_count": 5,
   "metadata": {},
   "outputs": [],
   "source": [
    "from mobilechelonian import Turtle #https://github.com/peacej/mobilechelonian"
   ]
  },
  {
   "cell_type": "code",
   "execution_count": 6,
   "metadata": {},
   "outputs": [],
   "source": [
    "import os.path\n",
    "import math\n",
    "\n",
    "from ipywidgets import widgets\n",
    "from notebook import nbextensions\n",
    "from traitlets import Unicode, List\n",
    "from IPython.display import display"
   ]
  },
  {
   "cell_type": "code",
   "execution_count": 7,
   "metadata": {},
   "outputs": [],
   "source": [
    "# mathライブラリから、関数cos(),sin() と 円周率piをインポートします\n",
    "from math import cos,sin, pi\n",
    "\n",
    "# 円周率は定数なので、なんとなく大文字PIで表記しました。別に小文字のままpiで問題ないと思います\n",
    "PI=pi\n",
    "\n",
    "# ハートを描く関数です。\n",
    "def draw_my_heart(ttl, radius, alpha=45, theta=210, degrees=0):\n",
    "    #ttl.setheading(degrees) # カーソルの向きを設定する。右0度,上90度,左180度,下270度。\n",
    "    #ttl.penup() # ペンを上げる（ペンを上げると、移動中に線が引かれない）\n",
    "    #ttl.goto(x, y) # カーソルが(x,y) の座標に移動する\n",
    "    #ttl.pendown() # ペンを下ろす（ペンを下ろすと、移動中に線が引かれる）\n",
    "\n",
    "    # 長ったらしい数式を書くので、変数を短めにしました\n",
    "    r = radius # 扇形の半径\n",
    "    a = alpha # 水平方向と直線の角度\n",
    "    t = theta # 扇形の中心角\n",
    "\n",
    "    # 直線の長さです。作図して求めました\n",
    "    straight = r*(-cos((a+90)*PI/180)-cos((t+a-90)*PI/180)) / cos(a*PI/180)\n",
    "\n",
    "    ttl.left(a) # 左にa度カーソルの向きを変えます\n",
    "    ttl.forward(straight) # カーソルが向いてる方向にstraightの長さ進みます。右の直線部分。\n",
    "    ttl.circle(r,t) # 半径rでt度の扇形を描きます。右側の扇形。\n",
    "    ttl.left(720-2*a-2*t) # 真ん中で左に(720-2*a-2*t)度カーソルの向きを変えます。作図して求めた角度。\n",
    "    ttl.circle(r,t) # 半径rでt度の扇形を描きます。左側の扇形。\n",
    "    ttl.forward(straight) #カーソルが向いてる方向にstraightの長さ進みます。左の直線部分。"
   ]
  },
  {
   "cell_type": "code",
   "execution_count": 17,
   "metadata": {},
   "outputs": [
    {
     "data": {
      "application/vnd.jupyter.widget-view+json": {
       "model_id": "bb3b47fee82741d89066a684188a963e",
       "version_major": 2,
       "version_minor": 0
      },
      "text/html": [
       "<p>Failed to display Jupyter Widget of type <code>Turtle</code>.</p>\n",
       "<p>\n",
       "  If you're reading this message in the Jupyter Notebook or JupyterLab Notebook, it may mean\n",
       "  that the widgets JavaScript is still loading. If this message persists, it\n",
       "  likely means that the widgets JavaScript library is either not installed or\n",
       "  not enabled. See the <a href=\"https://ipywidgets.readthedocs.io/en/stable/user_install.html\">Jupyter\n",
       "  Widgets Documentation</a> for setup instructions.\n",
       "</p>\n",
       "<p>\n",
       "  If you're reading this message in another frontend (for example, a static\n",
       "  rendering on GitHub or <a href=\"https://nbviewer.jupyter.org/\">NBViewer</a>),\n",
       "  it may mean that your frontend doesn't currently support widgets.\n",
       "</p>\n"
      ],
      "text/plain": [
       "Turtle()"
      ]
     },
     "metadata": {},
     "output_type": "display_data"
    }
   ],
   "source": [
    "#x = 0 # ハートの一番下の点のx座標\n",
    "\n",
    "#y = -150 # ハートの一番下の点のy座標\n",
    "r = 40 # ハートの扇形の半径\n",
    "\n",
    "#scr = turtle.Screen() # 画面を作ります。Screenクラスのインスタンスを作っています。\n",
    "#scr.title('draw a heart') # 画面の上にこのタイトルが表示されます\n",
    "#scr.setup (width, height, 0, 0) # 画面のサイズです\n",
    "#t = Turtle(width=800, height=800) # Turtle オブジェクト（絵を描くカーソル）を作ります\n",
    "#ttl.speed(3) # 絵を描くスピードを設定します\n",
    "#ttl.shape('turtle') # カーソルは'turtle'(亀)にしました\n",
    "#ttl.screen.screensize(width+100, height+100) # この範囲まで画面をスクロールできます。タートルが画面外に行った時、追いかけられるように大きめに設定\n",
    "\n",
    "#ttl.pencolor('red') # ペンの色を赤に設定\n",
    "#ttl.fillcolor('red') # 塗りつぶしに使う色を赤に設定\n",
    "#ttl.pensize(1) # ペンの太さを1に設定\n",
    "t = Turtle()\n",
    "t.speed(500)\n",
    "#ttl.begin_fill() # ここから塗りつぶし開始\n",
    "draw_my_heart(t, r) # ハートを描く。デフォルト値を決めてる引数alpha=45, theta=210, degrees=0は省略されています、\n",
    "#ttl.end_fill() # ここまで塗りつぶす\n",
    "\n",
    "#ttl.hideturtle() # カーソルを見えないようにする\n",
    "#scr.exitonclick() # 画面をクリックしたら終了する"
   ]
  },
  {
   "cell_type": "code",
   "execution_count": 8,
   "metadata": {},
   "outputs": [],
   "source": [
    "from matplotlib.font_manager import FontProperties\n",
    "fp = FontProperties(fname=r'C:\\WINDOWS\\Fonts\\TH-Tshyn-P0.ttf', size=14)"
   ]
  },
  {
   "cell_type": "code",
   "execution_count": 9,
   "metadata": {},
   "outputs": [],
   "source": [
    "import scipy\n",
    "from matplotlib import pyplot as plt"
   ]
  },
  {
   "cell_type": "code",
   "execution_count": 10,
   "metadata": {},
   "outputs": [
    {
     "name": "stdout",
     "output_type": "stream",
     "text": [
      "<class 'matplotlib.axes._subplots.AxesSubplot'>\n",
      "<class 'matplotlib.axes._subplots.AxesSubplot'>\n"
     ]
    },
    {
     "name": "stderr",
     "output_type": "stream",
     "text": [
      "C:\\ProgramData\\Anaconda3\\lib\\site-packages\\matplotlib\\axes\\_axes.py:4834: ComplexWarning: Casting complex values to real discards the imaginary part\n",
      "  X[1:N + 1, 1] = y1slice\n",
      "C:\\ProgramData\\Anaconda3\\lib\\site-packages\\numpy\\core\\numeric.py:492: ComplexWarning: Casting complex values to real discards the imaginary part\n",
      "  return array(a, dtype, copy=False, order=order)\n"
     ]
    },
    {
     "data": {
      "text/plain": [
       "Text(0,-0.4,'라부')"
      ]
     },
     "execution_count": 10,
     "metadata": {},
     "output_type": "execute_result"
    },
    {
     "data": {
      "image/png": "[encoded data removed]",
      "text/plain": [
       "<matplotlib.figure.Figure at 0x8ab9c50>"
      ]
     },
     "metadata": {
      "needs_background": "light"
     },
     "output_type": "display_data"
    }
   ],
   "source": [
    "#%matplotlib inline\n",
    "#import pylab\n",
    "\n",
    "fig, ax = plt.subplots()\n",
    "print(type(ax))\n",
    "x = scipy.linspace(-2,8,3000)\n",
    "y1 = scipy.sqrt(1-(abs(x)-1)**2)\n",
    "y2 = -3*scipy.sqrt(1-(abs(x)/2)**0.5)\n",
    "ax.set_xlim([-2.5, 8.5])\n",
    "ax.fill_between(x, y1, color='red')\n",
    "ax.fill_between(x, y2, color='red')\n",
    "print(type(ax))\n",
    "y3 = scipy.sqrt(1-(abs(x-4)-1)**2)\n",
    "y4 = -3*scipy.sqrt(1-(abs(x-4)/2)**0.5)\n",
    "\n",
    "plt.fill_between(x, y3, color='red')\n",
    "plt.fill_between(x, y4, color='red')\n",
    "\n",
    "plt.text(0, -0.4, '라부', fontsize=30, fontweight='bold',\n",
    "           color='blue', horizontalalignment='center',fontproperties=fp)\n"
   ]
  },
  {
   "cell_type": "code",
   "execution_count": 11,
   "metadata": {},
   "outputs": [],
   "source": [
    "#create a figure to animate\n",
    "# https://matplotlib.org/3.1.1/gallery/animation/dynamic_image.html\n",
    "import numpy as np\n",
    "import matplotlib as mpl\n",
    "import matplotlib.pyplot as plt\n",
    "import matplotlib.animation as animation\n"
   ]
  },
  {
   "cell_type": "code",
   "execution_count": 22,
   "metadata": {
    "scrolled": true
   },
   "outputs": [
    {
     "name": "stdout",
     "output_type": "stream",
     "text": [
      "check1\n",
      "check2\n",
      "check3\n"
     ]
    },
    {
     "name": "stderr",
     "output_type": "stream",
     "text": [
      "C:\\ProgramData\\Anaconda3\\lib\\site-packages\\matplotlib\\axes\\_axes.py:4834: ComplexWarning: Casting complex values to real discards the imaginary part\n",
      "  X[1:N + 1, 1] = y1slice\n",
      "C:\\ProgramData\\Anaconda3\\lib\\site-packages\\numpy\\core\\numeric.py:492: ComplexWarning: Casting complex values to real discards the imaginary part\n",
      "  return array(a, dtype, copy=False, order=order)\n"
     ]
    },
    {
     "data": {
      "text/plain": [
       "<matplotlib.figure.Figure at 0x8e3fa58>"
      ]
     },
     "metadata": {},
     "output_type": "display_data"
    },
    {
     "data": {
      "image/png": "[encoded data removed]",
      "text/plain": [
       "<matplotlib.figure.Figure at 0x8e3f4a8>"
      ]
     },
     "metadata": {
      "needs_background": "light"
     },
     "output_type": "display_data"
    }
   ],
   "source": [
    "fig = plt.figure()\n",
    "plt.rcParams['animation.ffmpeg_path'] = r'C:\\ffmpeg\\ffmpeg.exe'\n",
    "\n",
    "def f(x, y):\n",
    "    return np.sin(x) + np.cos(y)\n",
    "\n",
    "x = np.linspace(0, 2 * np.pi, 120)\n",
    "y = np.linspace(0, 2 * np.pi, 100).reshape(-1, 1)\n",
    "# ims is a list of lists, each row is a list of artists to draw in the\n",
    "# current frame; here we are just animating one artist, the image, in\n",
    "# each frame\n",
    "ims = []\n",
    "\n",
    "fig, ax = plt.subplots()\n",
    "\n",
    "ax.set_xlim([-2.5, 16.5])\n",
    "x = scipy.linspace(-2,16,3000)\n",
    "y1 = scipy.sqrt(1-(abs(x)-1)**2)\n",
    "y2 = -3*scipy.sqrt(1-(abs(x)/2)**0.5)\n",
    "#im = plt.imshow(f(x, y), animated=True)\n",
    "print('check1')\n",
    "#img = ax.get_images()[0]\n",
    "#print(type(img))\n",
    "ims.append([ax.fill_between(x, y2, color='red'),ax.fill_between(x, y1, color='red')])\n",
    "\n",
    "y3 = scipy.sqrt(1-(abs(x-4)-1)**2)\n",
    "y4 = -3*scipy.sqrt(1-(abs(x-4)/2)**0.5)\n",
    "\n",
    "print('check2')\n",
    "ims.append([ax.fill_between(x, y3, color='blue'),ax.fill_between(x, y4, color='blue')])\n",
    "\n",
    "y5 = scipy.sqrt(1-(abs(x-8)-1)**2)\n",
    "y6 = -3*scipy.sqrt(1-(abs(x-8)/2)**0.5)\n",
    "print('check3')\n",
    "ims.append([ax.fill_between(x, y5, color='purple'),ax.fill_between(x, y6, color='purple')])\n",
    "\n",
    "y7 = scipy.sqrt(1-(abs(x-12)-1)**2)\n",
    "y8 = -3*scipy.sqrt(1-(abs(x-12)/2)**0.5)\n",
    "ims.append([ax.fill_between(x, y7, color='purple'),ax.fill_between(x, y8, color='purple')])\n",
    "\n",
    "\n",
    "#for i in range(60):\n",
    "#    x += np.pi / 15.\n",
    "#    y += np.pi / 20.\n",
    "    \n",
    "ani = animation.ArtistAnimation(fig, ims, interval=5000, blit=False,repeat=True)"
   ]
  },
  {
   "cell_type": "code",
   "execution_count": 23,
   "metadata": {},
   "outputs": [
    {
     "data": {
      "text/plain": [
       "<matplotlib.animation.ArtistAnimation at 0x8f91128>"
      ]
     },
     "execution_count": 23,
     "metadata": {},
     "output_type": "execute_result"
    }
   ],
   "source": [
    "ani"
   ]
  },
  {
   "cell_type": "code",
   "execution_count": 27,
   "metadata": {},
   "outputs": [],
   "source": [
    "from matplotlib.animation import FFMpegWriter\n",
    "writer = FFMpegWriter(fps=1, metadata=dict(artist='Me'), bitrate=1800)\n",
    "ani.save(r\"C:\\Users\\jerrychi\\Downloads\\asdf{}.mp4\".format(arrow.utcnow().format('YYYY-MM-DD-hh-mm-ss')),writer=writer)"
   ]
  },
  {
   "cell_type": "code",
   "execution_count": null,
   "metadata": {},
   "outputs": [],
   "source": []
  },
  {
   "cell_type": "code",
   "execution_count": 47,
   "metadata": {},
   "outputs": [],
   "source": [
    "import pandas as pd\n",
    "df = pd.DataFrame([1,2])"
   ]
  },
  {
   "cell_type": "code",
   "execution_count": 49,
   "metadata": {},
   "outputs": [],
   "source": [
    "df.to_csv(r\"C:\\Users\\jerrychi\\Downloads\\asdf.csv\")"
   ]
  },
  {
   "cell_type": "code",
   "execution_count": 86,
   "metadata": {},
   "outputs": [
    {
     "name": "stdout",
     "output_type": "stream",
     "text": [
      "<class 'matplotlib.lines.Line2D'>\n",
      "<class 'matplotlib.lines.Line2D'>\n"
     ]
    },
    {
     "data": {
      "image/png": "[encoded data removed]",
      "text/plain": [
       "<matplotlib.figure.Figure at 0xe86b278>"
      ]
     },
     "metadata": {
      "needs_background": "light"
     },
     "output_type": "display_data"
    }
   ],
   "source": [
    "x = np.linspace(0, np.pi * 4, 100)\n",
    "\n",
    "fig, [axes1, axes2] = plt.subplots(1, 2, figsize=(8, 4))\n",
    "frames = []  # 各フレームを構成する Artist 一覧\n",
    "for delta in np.linspace(0, np.pi, 30):\n",
    "    y1 = np.sin(x + delta)\n",
    "    y2 = np.cos(x + delta)\n",
    "\n",
    "    artists1 = axes1.plot(x, y1, c='b')\n",
    "    artists2 = axes2.plot(x, y2, c='g')\n",
    "    print(type(artists1[0]))\n",
    "    # このフレームを構成する Artist 一覧を1つにまとめる。\n",
    "    frame = artists1 + artists2\n",
    "    print(type(frame[0]))\n",
    "    break\n",
    "    frames.append(frame)"
   ]
  },
  {
   "cell_type": "code",
   "execution_count": null,
   "metadata": {},
   "outputs": [],
   "source": []
  }
 ],
 "metadata": {
  "kernelspec": {
   "display_name": "Python 3",
   "language": "python",
   "name": "python3"
  },
  "language_info": {
   "codemirror_mode": {
    "name": "ipython",
    "version": 3
   },
   "file_extension": ".py",
   "mimetype": "text/x-python",
   "name": "python",
   "nbconvert_exporter": "python",
   "pygments_lexer": "ipython3",
   "version": "3.6.4"
  }
 },
 "nbformat": 4,
 "nbformat_minor": 2
}
